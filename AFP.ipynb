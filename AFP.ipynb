{
 "cells": [
  {
   "cell_type": "code",
   "execution_count": 19,
   "metadata": {
    "collapsed": false
   },
   "outputs": [
    {
     "name": "stdout",
     "output_type": "stream",
     "text": [
      "[ 0.00134 -0.00054  0.00015  0.00008  0.00052  0.00023 -0.001   -0.00094\n",
      " -0.00024  0.00003  0.00058  0.00051 -0.0007   0.00057  0.00025  0.00022\n",
      "  0.00023  0.00032  0.00025 -0.0002   0.00018  0.00074 -0.00004 -0.00018\n",
      "  0.00054  0.00035  0.00146  0.       0.00095  0.00033  0.00158  0.00051\n",
      "  0.00115  0.00051  0.00074  0.00115  0.00029  0.00047  0.00058  0.0008\n",
      " -0.00033  0.00007  0.00055  0.00144 -0.00005  0.00037  0.00112  0.00062\n",
      "  0.00051 -0.00048  0.00002  0.00013  0.00051  0.00075  0.00003  0.00137\n",
      "  0.00141  0.00094 -0.0002   0.00517  0.00229 -0.00175  0.00161  0.00164\n",
      "  0.00101  0.00041  0.001   -0.00051  0.00094 -0.00062  0.00102 -0.00152\n",
      "  0.00018  0.00277 -0.00039 -0.00067  0.00109  0.00048 -0.00234  0.00212\n",
      "  0.0027  -0.00002]\n"
     ]
    }
   ],
   "source": [
    "import csv\n",
    "import pandas\n",
    "import numpy as np\n",
    "import matplotlib.pyplot as plt\n",
    "%matplotlib inline\n",
    "\n",
    "data = pandas.DataFrame.from_csv('C:\\Users\\hawas\\Documents\\\\tcost.csv', parse_dates = True, index_col = False)\n",
    "\n",
    "data['abs_vol'] = abs(data.fillQty)\n",
    "data['tcost'] = data.fillQty * (data.fillPx - data.arrivalPx) /data.arrivalPx\n",
    "data['abs_dollar_vol'] = data.abs_vol * data.fillPx\n",
    "#print data.date.unique()\n",
    "# Parse daily average transaction costs\n",
    "\n",
    "data_c = data.loc[data.algoid == 'Lima01'] + data.loc[data.algoid == 'Lima02']\n",
    "\n",
    "date_slice = np.intersect1d(data[data.algoid=='Lima02']['date'], data[data.algoid=='Lima01']['date'] )\n",
    "data_dslice = data.loc[data.date.isin(date_slice)]\n",
    "\n",
    "algo1 = data_dslice[data_dslice.algoid == 'Lima01']\n",
    "algo_1_costs = algo1.groupby('date').sum()['tcost'] / algo1.groupby('date').sum()['abs_vol']\n",
    "algo_1_costs = np.array(algo_1_costs)\n",
    "\n",
    "\n",
    "algo2 = data_dslice[data_dslice.algoid == 'Lima02']\n",
    "algo_2_costs = algo2.groupby('date').sum()['tcost'] / algo2.groupby('date').sum()['abs_vol']\n",
    "algo_2_costs = np.array(algo_2_costs)\n",
    "np.set_printoptions(precision=5, suppress = True)"
   ]
  },
  {
   "cell_type": "code",
   "execution_count": 20,
   "metadata": {
    "collapsed": false
   },
   "outputs": [
    {
     "name": "stdout",
     "output_type": "stream",
     "text": [
      "         last_date  day_count  first_date\n",
      "algoid                                   \n",
      "Kilo01    20160429        247    20150501\n",
      "Lima01    20150826         82    20150501\n",
      "Lima02    20160429        248    20150501\n",
      "Oscar01   20160428        153    20150911\n",
      "Tango01   20151112        137    20150501\n"
     ]
    }
   ],
   "source": [
    "### Day count by algo\n",
    "\n",
    "print data.groupby('algoid')['date'].agg({'day_count': lambda x: x.nunique(), \n",
    "                                          'first_date': lambda x:min(x), \n",
    "                                          'last_date': lambda x: max(x)} )"
   ]
  },
  {
   "cell_type": "code",
   "execution_count": 22,
   "metadata": {
    "collapsed": false
   },
   "outputs": [
    {
     "name": "stdout",
     "output_type": "stream",
     "text": [
      "                 date        fillPx  fillQty      arrivalPx   abs_vol  \\\n",
      "algoid                                                                  \n",
      "Kilo01   535451028284  1469424.8044   225364  1469484.82500  46396614   \n",
      "Lima01   583159002923  1644796.8175  -321417  1644724.68645  45133313   \n",
      "Lima02   937521332453  2629801.6613  -804327  2629700.29485  82384275   \n",
      "Oscar01  477890918217  1370969.1193  -541878  1370408.84555  38897068   \n",
      "Tango01  519183549683  1438867.3787  -597134  1438778.83150  41883360   \n",
      "\n",
      "                tcost  abs_dollar_vol  \n",
      "algoid                                 \n",
      "Kilo01   29802.305991    1.732970e+09  \n",
      "Lima01   19394.357355    1.855943e+09  \n",
      "Lima02   35493.074386    3.190565e+09  \n",
      "Oscar01  11019.327923    1.520773e+09  \n",
      "Tango01  35907.929579    1.611475e+09  \n"
     ]
    }
   ],
   "source": [
    "#Totals by algo \n",
    "print data.groupby('algoid').sum()\n"
   ]
  },
  {
   "cell_type": "code",
   "execution_count": 23,
   "metadata": {
    "collapsed": false
   },
   "outputs": [
    {
     "data": {
      "image/png": "[encoded data removed]",
      "text/plain": [
       "<matplotlib.figure.Figure at 0xbba9b38>"
      ]
     },
     "metadata": {},
     "output_type": "display_data"
    },
    {
     "data": {
      "image/png": "[encoded data removed]",
      "text/plain": [
       "<matplotlib.figure.Figure at 0x21041fd0>"
      ]
     },
     "metadata": {},
     "output_type": "display_data"
    }
   ],
   "source": [
    "### Mean reversion\n",
    "\n",
    "import statsmodels.tsa.stattools\n",
    "tcosts_all =  data.groupby('date').sum()['tcost'] / data.groupby('date').sum()['abs_vol']\n",
    "\n",
    "plt.figure(1)\n",
    "plt.plot(xrange(15),statsmodels.tsa.stattools.acf(tcosts_all, nlags = 14) )\n",
    "plt.suptitle('ACF without differencing lag')\n",
    "\n",
    "\n",
    "plt.figure(2)\n",
    "plt.plot(xrange(15),statsmodels.tsa.stattools.acf((tcosts_all - tcosts_all.shift(1))[1:len(tcosts_all)], nlags = 14)  )\n",
    "plt.suptitle('ACF after differencing lag')\n",
    "plt.show()\n"
   ]
  },
  {
   "cell_type": "code",
   "execution_count": 34,
   "metadata": {
    "collapsed": false
   },
   "outputs": [
    {
     "name": "stdout",
     "output_type": "stream",
     "text": [
      "Covariance matrix algo1 vs algo2\n",
      "[[ 0.0000010365  0.000000056 ]\n",
      " [ 0.000000056   0.0000005615]]\n",
      "Correlation\n",
      "[ 0.0000168789]\n",
      "Algo 1 Mean\n",
      "0.000477353047421\n",
      "Algo 2 Mean\n",
      "0.000315309921554\n",
      "Total variance\n",
      "1.66548910058e-06\n",
      "0.000530273399744\n",
      "82\n"
     ]
    }
   ],
   "source": [
    "# Algorithm specific info\n",
    "np.set_printoptions(precision=10, suppress = True)\n",
    "print \"Covariance matrix algo1 vs algo2\"\n",
    "print np.cov(algo_1_costs, algo_2_costs)\n",
    "print \"Correlation\"\n",
    "print np.correlate(algo_1_costs, algo_2_costs)\n",
    "print \"Algo 1 Mean\"\n",
    "print np.mean(algo_1_costs)\n",
    "print \"Algo 2 Mean\"\n",
    "print np.mean(algo_2_costs)\n",
    "\n",
    "#Variance in algorithm specific noise\n",
    "#print data.groupby('date').sum()['tcost'] / data.groupby('date').sum()['abs_vol']\n",
    "print \"Total variance\"\n",
    "print np.var(data.groupby('date').sum()['tcost'] / data.groupby('date').sum()['abs_vol'])\n",
    "\n",
    "\n",
    "print \"Total transaction cost mean\"\n",
    "print np.mean(data.groupby('date').sum()['tcost'] / data.groupby('date').sum()['abs_vol'])\n",
    "print len(algo_1_costs)"
   ]
  },
  {
   "cell_type": "code",
   "execution_count": 40,
   "metadata": {
    "collapsed": false
   },
   "outputs": [
    {
     "name": "stdout",
     "output_type": "stream",
     "text": [
      "Stock specific noise\n",
      "20150501 223 184\n",
      "20150504 241 194\n",
      "20150505 277 231\n",
      "20150506 233 195\n",
      "20150507 282 251\n",
      "20150508 283 247\n",
      "20150511 643 425\n",
      "20150512 483 300\n",
      "20150513 397 248\n",
      "20150514 404 259\n",
      "20150515 373 233\n",
      "20150518 545 331\n",
      "20150519 468 270\n",
      "20150520 389 234\n",
      "20150521 443 241\n",
      "20150522 420 253\n",
      "20150526 446 226\n",
      "20150527 480 259\n",
      "20150528 486 255\n",
      "20150529 489 255\n",
      "20150601 487 254\n",
      "20150602 558 287\n",
      "20150603 594 317\n",
      "20150604 509 274\n",
      "20150605 471 261\n",
      "20150608 523 289\n",
      "20150609 474 267\n",
      "20150610 434 248\n",
      "20150611 525 284\n",
      "20150612 502 272\n",
      "20150615 541 302\n",
      "20150616 558 297\n",
      "20150617 515 282\n",
      "20150618 548 293\n",
      "20150619 467 268\n",
      "20150622 497 268\n",
      "20150623 461 260\n",
      "20150624 699 352\n",
      "20150625 648 335\n",
      "20150626 475 255\n",
      "20150629 625 332\n",
      "20150630 723 356\n",
      "20150701 680 355\n",
      "20150702 758 371\n",
      "20150706 650 323\n",
      "20150707 654 332\n",
      "20150708 366 221\n",
      "20150709 525 270\n",
      "20150710 573 307\n",
      "20150713 57 37\n",
      "20150714 383 215\n",
      "20150715 505 273\n",
      "20150716 541 290\n",
      "20150717 757 370\n",
      "20150720 141 79\n",
      "20150721 205 139\n",
      "20150722 264 148\n",
      "20150723 202 115\n",
      "20150724 184 100\n",
      "20150727 124 64\n",
      "20150728 166 83\n",
      "20150729 124 63\n",
      "20150730 123 65\n",
      "20150731 135 73\n",
      "20150803 64 36\n",
      "20150804 84 46\n",
      "20150805 99 55\n",
      "20150806 62 33\n",
      "20150807 77 39\n",
      "20150810 76 43\n",
      "20150811 80 39\n",
      "20150812 46 25\n",
      "20150813 58 32\n",
      "20150814 35 18\n",
      "20150817 41 41\n",
      "20150818 36 36\n",
      "20150819 49 44\n",
      "20150820 34 33\n",
      "20150821 38 38\n",
      "20150824 30 29\n",
      "20150825 30 30\n",
      "20150826 45 45\n"
     ]
    }
   ],
   "source": [
    "print \"Stock specific noise\"\n",
    "all_dates = algo1.date.unique()\n",
    "for d in all_dates:\n",
    "    securities_today = algo1[algo1.date == d].secid.unique()\n",
    "    "
   ]
  },
  {
   "cell_type": "code",
   "execution_count": 41,
   "metadata": {
    "collapsed": false
   },
   "outputs": [
    {
     "data": {
      "image/png": "[encoded data removed]",
      "text/plain": [
       "<matplotlib.figure.Figure at 0x245da3c8>"
      ]
     },
     "metadata": {},
     "output_type": "display_data"
    },
    {
     "data": {
      "image/png": "[encoded data removed]",
      "text/plain": [
       "<matplotlib.figure.Figure at 0xf6d4080>"
      ]
     },
     "metadata": {},
     "output_type": "display_data"
    }
   ],
   "source": [
    "def kalman_step(tcost, est_x, est_p, alpha):\n",
    "    y = tcost - est_x\n",
    "    S = est_p + 0.0000168789 + 0.00001/alpha\n",
    "    K = est_p/S\n",
    "    #print K\n",
    "    est_x =  0.99*(est_x+K*y) + 0.01*0.000530273399744  #new one\n",
    "    est_p= (1-K)*est_p\n",
    "    return {'newx_est':est_x, 'newp_est':est_p}\n",
    "\n",
    "\n",
    "#alpha = 0.5\n",
    "\n",
    "def kalman_model(algo_1_costs, algo_2_costs, alpha=-1 ):\n",
    "    filter_1_x = [0.000477353047421]\n",
    "    filter_1_p = [0.0000010365]\n",
    "\n",
    "    filter_2_x = [0.000315309921554]\n",
    "    filter_2_p = [0.0000005615]\n",
    "\n",
    "    utility = 0\n",
    "    realised_tcosts = []\n",
    "    for i in xrange(0,81):\n",
    "        #pick an alpha\n",
    "        if(alpha == -1):\n",
    "            alpha = np.random.uniform(size=1)\n",
    "        utility += alpha*filter_1_x[i] + (1-alpha)*filter_2_x[i]\n",
    "        tcost_1 = algo_1_costs[i]\n",
    "        filter_step = kalman_step(tcost_1, filter_1_x[i], filter_1_p[i], alpha)\n",
    "        filter_1_x.append(filter_step['newx_est'])\n",
    "        filter_1_p.append(filter_step['newp_est'])\n",
    "    \n",
    "        tcost_2 = algo_2_costs[i]\n",
    "        filter_step = kalman_step(tcost_2, filter_2_x[i], filter_2_p[i], alpha)\n",
    "        filter_2_x.append(filter_step['newx_est'])\n",
    "        filter_2_p.append(filter_step['newp_est'])\n",
    "        realised_tcosts.append(alpha*filter_1_x[i] + (1-alpha)*filter_2_x[i])\n",
    "    return (utility, filter_1_x, filter_2_x, realised_tcosts, filter_1_p, filter_2_p)\n",
    "plt.figure(1)\n",
    "u = []\n",
    "for j in xrange(1,5):\n",
    "    k=kalman_model(algo_1_costs, algo_2_costs)\n",
    "    plt.plot(k[1])\n",
    "    #plt.plot(k[1], label = 'Alpha = {0}'.format(j/float(5)))\n",
    "    #u.append(k[0])\n",
    "#plt.legend()\n",
    "plt.plot(u)\n",
    "plt.show()\n",
    "\n",
    "plt.figure(2)\n",
    "u = []\n",
    "for j in xrange(1,6):\n",
    "    k=kalman_model(algo_1_costs, algo_2_costs, j/float(5))\n",
    "    plt.plot(k[1], label = 'Alpha = {0}'.format(j/float(5)))\n",
    "    u.append(k[0])\n",
    "plt.legend()\n",
    "plt.show()\n"
   ]
  },
  {
   "cell_type": "code",
   "execution_count": 60,
   "metadata": {
    "collapsed": false
   },
   "outputs": [
    {
     "name": "stdout",
     "output_type": "stream",
     "text": [
      "Optimization terminated successfully.    (Exit mode 0)\n",
      "            Current function value: [ 2.65285879]\n",
      "            Iterations: 3\n",
      "            Function evaluations: 9\n",
      "            Gradient evaluations: 3\n",
      "     fun: array([ 2.65285879])\n",
      "     jac: array([-0.29008329,  0.        ])\n",
      " message: 'Optimization terminated successfully.'\n",
      "    nfev: 9\n",
      "     nit: 3\n",
      "    njev: 3\n",
      "  status: 0\n",
      " success: True\n",
      "       x: array([ 1.])\n"
     ]
    }
   ],
   "source": [
    "\n",
    "def kalman_step(tcost, est_x, est_p, alpha):\n",
    "    y = tcost - est_x\n",
    "    S = est_p + 0.1 + 0.2/alpha\n",
    "    K = est_p/S\n",
    "    #print K\n",
    "    est_x =  0.9*(est_x+K*y) + 0.1*0.11  #new one\n",
    "    est_p= (1-K)*est_p\n",
    "    return {'newx_est':est_x, 'newp_est':est_p}\n",
    "\n",
    "\n",
    "#alpha = 0.5\n",
    "\n",
    "def kalman_model(alpha, algo_1_costs, algo_2_costs ):\n",
    "    filter_1_x = [0.12]\n",
    "    filter_1_p = [0.02]\n",
    "\n",
    "    filter_2_x = [0.11]\n",
    "    filter_2_p = [0.014]\n",
    "\n",
    "    utility = 0\n",
    "    for i in xrange(0,29):\n",
    "        #pick an alpha\n",
    "        utility += alpha*filter_1_x[i] + (1-alpha)*filter_2_x[i]\n",
    "        tcost_1 = algo_1_costs[i]\n",
    "        filter_step = kalman_step(tcost_1, filter_1_x[i], filter_1_p[i], alpha)\n",
    "        filter_1_x.append(filter_step['newx_est'])\n",
    "        filter_1_p.append(filter_step['newp_est'])\n",
    "\n",
    "        tcost_2 = algo_2_costs[i]\n",
    "        filter_step = kalman_step(tcost_2, filter_2_x[i], filter_2_p[i], alpha)\n",
    "        filter_2_x.append(filter_step['newx_est'])\n",
    "        filter_2_p.append(filter_step['newp_est'])\n",
    "    return utility\n",
    "\n",
    "import scipy.optimize\n",
    "print scipy.optimize.minimize(\n",
    "    lambda x: kalman_model(x, algo_1_costs, algo_2_costs), \n",
    "    0.1,method='SLSQP', \n",
    "    options={'disp':True} , bounds = [(0,1)]\n",
    ")\n",
    "\n",
    "\n"
   ]
  },
  {
   "cell_type": "code",
   "execution_count": null,
   "metadata": {
    "collapsed": true
   },
   "outputs": [],
   "source": []
  }
 ],
 "metadata": {
  "kernelspec": {
   "display_name": "Python 2",
   "language": "python",
   "name": "python2"
  },
  "language_info": {
   "codemirror_mode": {
    "name": "ipython",
    "version": 2
   },
   "file_extension": ".py",
   "mimetype": "text/x-python",
   "name": "python",
   "nbconvert_exporter": "python",
   "pygments_lexer": "ipython2",
   "version": "2.7.11"
  }
 },
 "nbformat": 4,
 "nbformat_minor": 1
}
